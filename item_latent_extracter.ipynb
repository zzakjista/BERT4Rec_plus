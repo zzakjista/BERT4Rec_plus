{
 "cells": [
  {
   "cell_type": "code",
   "execution_count": 2,
   "metadata": {},
   "outputs": [],
   "source": [
    "import torch\n",
    "from torch import nn\n",
    "from torch.nn import functional as F\n",
    "from torch import optim\n",
    "from torch.utils.data import DataLoader\n",
    "from options import args\n",
    "from models.base import BaseModel\n",
    "from trainers.base import AbstractTrainer\n",
    "from models import model_factory\n",
    "from dataloaders import dataloader_factory\n",
    "from trainers import trainer_factory\n",
    "from utils import *\n",
    "from tqdm import tqdm"
   ]
  },
  {
   "cell_type": "code",
   "execution_count": 30,
   "metadata": {},
   "outputs": [
    {
     "name": "stdout",
     "output_type": "stream",
     "text": [
      "Already preprocessed. Skip preprocessing\n"
     ]
    }
   ],
   "source": [
    "args.dataloader_code = 'ae'\n",
    "args.dataset_code = 'ml-1m'\n",
    "train_loader, valid_loader, test_loader = dataloader_factory(args)"
   ]
  },
  {
   "cell_type": "code",
   "execution_count": 31,
   "metadata": {},
   "outputs": [],
   "source": [
    "x = train_loader.dataset.data.transpose(0,1)\n",
    "valid = valid_loader.dataset.input_data.transpose(0,1)\n",
    "test = test_loader.dataset.input_data.transpose(0,1)"
   ]
  },
  {
   "cell_type": "code",
   "execution_count": 32,
   "metadata": {},
   "outputs": [],
   "source": [
    "train_loader = torch.utils.data.DataLoader(x, batch_size=args.train_batch_size,\n",
    "                                           shuffle=True, pin_memory=True)"
   ]
  },
  {
   "cell_type": "code",
   "execution_count": 36,
   "metadata": {},
   "outputs": [],
   "source": [
    "class Autoencoder(nn.Module):\n",
    "    def __init__(self, input_dim, hidden_dim, latent_dim):\n",
    "        super(Autoencoder, self).__init__()\n",
    "        self.hidden_dim = None\n",
    "        self.latent_dim = None\n",
    "        self.encoder = nn.Sequential(\n",
    "            nn.Linear(input_dim, latent_dim),\n",
    "            nn.ReLU()\n",
    "        )\n",
    "        self.decoder = nn.Sequential(\n",
    "            nn.Linear(latent_dim, input_dim),\n",
    "            nn.Sigmoid()\n",
    "        )\n",
    "        self.encoder.apply(self.weight_init)\n",
    "        self.decoder.apply(self.weight_init)\n",
    "        \n",
    "    def weight_init(self, m):\n",
    "        if isinstance(m, nn.Linear):\n",
    "            nn.init.kaiming_normal_(m.weight)\n",
    "            m.bias.data.normal_(0.0, 0.001)\n",
    "    \n",
    "    def forward(self, x):\n",
    "        encoded = self.encoder(x)\n",
    "        decoded = self.decoder(encoded)\n",
    "        return decoded"
   ]
  },
  {
   "cell_type": "code",
   "execution_count": 35,
   "metadata": {},
   "outputs": [
    {
     "data": {
      "text/plain": [
       "torch.Size([3525, 6034])"
      ]
     },
     "execution_count": 35,
     "metadata": {},
     "output_type": "execute_result"
    }
   ],
   "source": [
    "train_loader.dataset.data.shape"
   ]
  },
  {
   "cell_type": "code",
   "execution_count": 37,
   "metadata": {},
   "outputs": [],
   "source": [
    "\n",
    "num_samples = train_loader.dataset.data.shape[0]\n",
    "input_dim = train_loader.dataset.data.shape[1]\n",
    "hidden_dim = 0\n",
    "latent_dim = 256\n",
    "learning_rate = args.lr\n",
    "num_epochs = 100\n",
    "\n",
    "model = Autoencoder(input_dim,hidden_dim,latent_dim)\n",
    "criterion = nn.BCELoss()\n",
    "optimizer = optim.Adam(model.parameters(), lr=learning_rate)"
   ]
  },
  {
   "cell_type": "code",
   "execution_count": 38,
   "metadata": {},
   "outputs": [
    {
     "name": "stderr",
     "output_type": "stream",
     "text": [
      "100%|██████████| 56/56 [00:06<00:00,  8.22it/s]\n"
     ]
    },
    {
     "name": "stdout",
     "output_type": "stream",
     "text": [
      "Epoch [1/100], Loss: 0.1851\n",
      "Epoch [2/100], Loss: 0.1026\n",
      "Epoch [3/100], Loss: 0.0620\n",
      "Epoch [4/100], Loss: 0.0407\n",
      "Epoch [5/100], Loss: 0.0349\n",
      "Epoch [6/100], Loss: 0.0520\n",
      "Epoch [7/100], Loss: 0.0217\n",
      "Epoch [8/100], Loss: 0.0864\n",
      "Epoch [9/100], Loss: 0.0817\n",
      "Epoch [10/100], Loss: 0.1479\n",
      "Epoch [11/100], Loss: 0.0512\n",
      "Epoch [12/100], Loss: 0.0973\n",
      "Epoch [13/100], Loss: 0.0367\n",
      "Epoch [14/100], Loss: 0.0136\n",
      "Epoch [15/100], Loss: 0.0320\n",
      "Epoch [16/100], Loss: 0.0893\n",
      "Epoch [17/100], Loss: 0.0342\n",
      "Epoch [18/100], Loss: 0.0242\n",
      "Epoch [19/100], Loss: 0.0381\n",
      "Epoch [20/100], Loss: 0.0585\n",
      "Epoch [21/100], Loss: 0.0389\n",
      "Epoch [22/100], Loss: 0.0378\n",
      "Epoch [23/100], Loss: 0.0763\n",
      "Epoch [24/100], Loss: 0.0527\n",
      "Epoch [25/100], Loss: 0.0299\n",
      "Epoch [26/100], Loss: 0.0220\n",
      "Epoch [27/100], Loss: 0.0336\n",
      "Epoch [28/100], Loss: 0.0271\n",
      "Epoch [29/100], Loss: 0.0119\n",
      "Epoch [30/100], Loss: 0.0199\n",
      "Epoch [31/100], Loss: 0.0563\n",
      "Epoch [32/100], Loss: 0.0898\n",
      "Epoch [33/100], Loss: 0.0238\n",
      "Epoch [34/100], Loss: 0.0065\n",
      "Epoch [35/100], Loss: 0.0501\n",
      "Epoch [36/100], Loss: 0.0075\n",
      "Epoch [37/100], Loss: 0.0175\n",
      "Epoch [38/100], Loss: 0.0258\n",
      "Epoch [39/100], Loss: 0.0260\n",
      "Epoch [40/100], Loss: 0.0369\n",
      "Epoch [41/100], Loss: 0.0115\n",
      "Epoch [42/100], Loss: 0.0327\n",
      "Epoch [43/100], Loss: 0.0201\n",
      "Epoch [44/100], Loss: 0.0345\n",
      "Epoch [45/100], Loss: 0.0290\n",
      "Epoch [46/100], Loss: 0.0360\n",
      "Epoch [47/100], Loss: 0.0330\n",
      "Epoch [48/100], Loss: 0.0332\n",
      "Epoch [49/100], Loss: 0.0215\n",
      "Epoch [50/100], Loss: 0.0313\n",
      "Epoch [51/100], Loss: 0.0133\n",
      "Epoch [52/100], Loss: 0.0257\n",
      "Epoch [53/100], Loss: 0.0082\n",
      "Epoch [54/100], Loss: 0.0170\n",
      "Epoch [55/100], Loss: 0.0307\n",
      "Epoch [56/100], Loss: 0.0391\n",
      "Epoch [57/100], Loss: 0.0069\n",
      "Epoch [58/100], Loss: 0.0456\n",
      "Epoch [59/100], Loss: 0.0287\n",
      "Epoch [60/100], Loss: 0.0063\n",
      "Epoch [61/100], Loss: 0.0069\n",
      "Epoch [62/100], Loss: 0.0326\n",
      "Epoch [63/100], Loss: 0.0028\n",
      "Epoch [64/100], Loss: 0.0056\n",
      "Epoch [65/100], Loss: 0.0139\n",
      "Epoch [66/100], Loss: 0.0407\n",
      "Epoch [67/100], Loss: 0.0142\n",
      "Epoch [68/100], Loss: 0.0073\n",
      "Epoch [69/100], Loss: 0.0020\n",
      "Epoch [70/100], Loss: 0.0052\n",
      "Epoch [71/100], Loss: 0.0050\n",
      "Epoch [72/100], Loss: 0.0032\n",
      "Epoch [73/100], Loss: 0.0042\n",
      "Epoch [74/100], Loss: 0.0180\n",
      "Epoch [75/100], Loss: 0.0113\n",
      "Epoch [76/100], Loss: 0.0121\n",
      "Epoch [77/100], Loss: 0.0703\n",
      "Epoch [78/100], Loss: 0.0031\n",
      "Epoch [79/100], Loss: 0.0038\n",
      "Epoch [80/100], Loss: 0.0062\n",
      "Epoch [81/100], Loss: 0.0027\n",
      "Epoch [82/100], Loss: 0.0024\n",
      "Epoch [83/100], Loss: 0.0020\n",
      "Epoch [84/100], Loss: 0.0069\n",
      "Epoch [85/100], Loss: 0.0024\n",
      "Epoch [86/100], Loss: 0.0043\n",
      "Epoch [87/100], Loss: 0.0247\n",
      "Epoch [88/100], Loss: 0.0038\n",
      "Epoch [89/100], Loss: 0.0121\n",
      "Epoch [90/100], Loss: 0.0040\n",
      "Epoch [91/100], Loss: 0.0052\n",
      "Epoch [92/100], Loss: 0.0011\n",
      "Epoch [93/100], Loss: 0.0034\n",
      "Epoch [94/100], Loss: 0.0111\n",
      "Epoch [95/100], Loss: 0.0039\n",
      "Epoch [96/100], Loss: 0.0038\n",
      "Epoch [97/100], Loss: 0.0115\n",
      "Epoch [98/100], Loss: 0.0084\n",
      "Epoch [99/100], Loss: 0.0265\n",
      "Epoch [100/100], Loss: 0.0024\n"
     ]
    }
   ],
   "source": [
    "#Training\n",
    "from tqdm import tqdm\n",
    "train_loader = tqdm(train_loader)\n",
    "for epoch in range(num_epochs):\n",
    "    for batch_index, batch in enumerate(train_loader):\n",
    "        # batch_size = batch[0].size(0)\n",
    "        batch = [x.to(args.device) for x in batch]\n",
    "        input_x = torch.stack(batch)\n",
    "        decoded = model(input_x)\n",
    "        loss = criterion(decoded, input_x)\n",
    "        optimizer.zero_grad()\n",
    "        loss.backward()\n",
    "        \n",
    "        optimizer.step()\n",
    "    print(f\"Epoch [{epoch+1}/{num_epochs}], Loss: {loss.item():.4f}\")"
   ]
  },
  {
   "cell_type": "code",
   "execution_count": 39,
   "metadata": {},
   "outputs": [],
   "source": [
    "encoder = model.encoder\n",
    "encoded_train_data = encoder(x).detach().numpy()"
   ]
  },
  {
   "cell_type": "code",
   "execution_count": 40,
   "metadata": {},
   "outputs": [
    {
     "data": {
      "text/plain": [
       "array([[0.0000000e+00, 0.0000000e+00, 0.0000000e+00, ..., 0.0000000e+00,\n",
       "        0.0000000e+00, 0.0000000e+00],\n",
       "       [2.2702747e+01, 6.4518142e-01, 0.0000000e+00, ..., 0.0000000e+00,\n",
       "        2.5275168e+00, 1.0268612e+00],\n",
       "       [2.0505822e+00, 3.3102605e+00, 4.4197354e-01, ..., 0.0000000e+00,\n",
       "        8.7024975e-01, 1.5305116e+00],\n",
       "       ...,\n",
       "       [1.9408367e+00, 1.2079253e+00, 4.8965599e-02, ..., 1.4051836e+00,\n",
       "        7.2019815e-01, 5.3642499e-01],\n",
       "       [1.2958812e+00, 2.2203176e+00, 1.9255825e+00, ..., 1.3615280e+00,\n",
       "        3.0987117e+00, 6.4951622e-01],\n",
       "       [7.4866928e-02, 8.0792179e+00, 1.0717744e-02, ..., 0.0000000e+00,\n",
       "        1.6658572e+00, 9.7944188e-01]], dtype=float32)"
      ]
     },
     "execution_count": 40,
     "metadata": {},
     "output_type": "execute_result"
    }
   ],
   "source": [
    "encoded_train_data"
   ]
  },
  {
   "cell_type": "code",
   "execution_count": 48,
   "metadata": {},
   "outputs": [
    {
     "ename": "KeyboardInterrupt",
     "evalue": "",
     "output_type": "error",
     "traceback": [
      "\u001b[1;31m---------------------------------------------------------------------------\u001b[0m",
      "\u001b[1;31mKeyboardInterrupt\u001b[0m                         Traceback (most recent call last)",
      "\u001b[1;32m~\\AppData\\Local\\Temp/ipykernel_17768/1833227572.py\u001b[0m in \u001b[0;36m<module>\u001b[1;34m\u001b[0m\n\u001b[0;32m      2\u001b[0m \u001b[1;31m# import numpy as np\u001b[0m\u001b[1;33m\u001b[0m\u001b[1;33m\u001b[0m\u001b[0m\n\u001b[0;32m      3\u001b[0m \u001b[1;32mfrom\u001b[0m \u001b[0msklearn\u001b[0m\u001b[1;33m.\u001b[0m\u001b[0mmetrics\u001b[0m \u001b[1;32mimport\u001b[0m \u001b[0mroc_auc_score\u001b[0m\u001b[1;33m\u001b[0m\u001b[1;33m\u001b[0m\u001b[0m\n\u001b[1;32m----> 4\u001b[1;33m \u001b[0mroc_auc_score\u001b[0m\u001b[1;33m(\u001b[0m\u001b[0mnp\u001b[0m\u001b[1;33m.\u001b[0m\u001b[0marray\u001b[0m\u001b[1;33m(\u001b[0m\u001b[0mx\u001b[0m\u001b[1;33m)\u001b[0m\u001b[1;33m,\u001b[0m\u001b[0mnp\u001b[0m\u001b[1;33m.\u001b[0m\u001b[0mwhere\u001b[0m\u001b[1;33m(\u001b[0m\u001b[0mdecoded\u001b[0m\u001b[1;33m.\u001b[0m\u001b[0mdetach\u001b[0m\u001b[1;33m(\u001b[0m\u001b[1;33m)\u001b[0m\u001b[1;33m.\u001b[0m\u001b[0mnumpy\u001b[0m\u001b[1;33m(\u001b[0m\u001b[1;33m)\u001b[0m \u001b[1;33m>\u001b[0m \u001b[1;36m0.5\u001b[0m\u001b[1;33m,\u001b[0m \u001b[1;36m1.\u001b[0m\u001b[1;33m,\u001b[0m \u001b[1;36m0.\u001b[0m\u001b[1;33m)\u001b[0m\u001b[1;33m)\u001b[0m\u001b[1;33m\u001b[0m\u001b[1;33m\u001b[0m\u001b[0m\n\u001b[0m",
      "\u001b[1;32m~\\AppData\\Roaming\\Python\\Python39\\site-packages\\sklearn\\metrics\\_ranking.py\u001b[0m in \u001b[0;36mroc_auc_score\u001b[1;34m(y_true, y_score, average, sample_weight, max_fpr, multi_class, labels)\u001b[0m\n\u001b[0;32m    577\u001b[0m         )\n\u001b[0;32m    578\u001b[0m     \u001b[1;32melse\u001b[0m\u001b[1;33m:\u001b[0m  \u001b[1;31m# multilabel-indicator\u001b[0m\u001b[1;33m\u001b[0m\u001b[1;33m\u001b[0m\u001b[0m\n\u001b[1;32m--> 579\u001b[1;33m         return _average_binary_score(\n\u001b[0m\u001b[0;32m    580\u001b[0m             \u001b[0mpartial\u001b[0m\u001b[1;33m(\u001b[0m\u001b[0m_binary_roc_auc_score\u001b[0m\u001b[1;33m,\u001b[0m \u001b[0mmax_fpr\u001b[0m\u001b[1;33m=\u001b[0m\u001b[0mmax_fpr\u001b[0m\u001b[1;33m)\u001b[0m\u001b[1;33m,\u001b[0m\u001b[1;33m\u001b[0m\u001b[1;33m\u001b[0m\u001b[0m\n\u001b[0;32m    581\u001b[0m             \u001b[0my_true\u001b[0m\u001b[1;33m,\u001b[0m\u001b[1;33m\u001b[0m\u001b[1;33m\u001b[0m\u001b[0m\n",
      "\u001b[1;32m~\\AppData\\Roaming\\Python\\Python39\\site-packages\\sklearn\\metrics\\_base.py\u001b[0m in \u001b[0;36m_average_binary_score\u001b[1;34m(binary_metric, y_true, y_score, average, sample_weight)\u001b[0m\n\u001b[0;32m    114\u001b[0m     \u001b[0mscore\u001b[0m \u001b[1;33m=\u001b[0m \u001b[0mnp\u001b[0m\u001b[1;33m.\u001b[0m\u001b[0mzeros\u001b[0m\u001b[1;33m(\u001b[0m\u001b[1;33m(\u001b[0m\u001b[0mn_classes\u001b[0m\u001b[1;33m,\u001b[0m\u001b[1;33m)\u001b[0m\u001b[1;33m)\u001b[0m\u001b[1;33m\u001b[0m\u001b[1;33m\u001b[0m\u001b[0m\n\u001b[0;32m    115\u001b[0m     \u001b[1;32mfor\u001b[0m \u001b[0mc\u001b[0m \u001b[1;32min\u001b[0m \u001b[0mrange\u001b[0m\u001b[1;33m(\u001b[0m\u001b[0mn_classes\u001b[0m\u001b[1;33m)\u001b[0m\u001b[1;33m:\u001b[0m\u001b[1;33m\u001b[0m\u001b[1;33m\u001b[0m\u001b[0m\n\u001b[1;32m--> 116\u001b[1;33m         \u001b[0my_true_c\u001b[0m \u001b[1;33m=\u001b[0m \u001b[0my_true\u001b[0m\u001b[1;33m.\u001b[0m\u001b[0mtake\u001b[0m\u001b[1;33m(\u001b[0m\u001b[1;33m[\u001b[0m\u001b[0mc\u001b[0m\u001b[1;33m]\u001b[0m\u001b[1;33m,\u001b[0m \u001b[0maxis\u001b[0m\u001b[1;33m=\u001b[0m\u001b[0mnot_average_axis\u001b[0m\u001b[1;33m)\u001b[0m\u001b[1;33m.\u001b[0m\u001b[0mravel\u001b[0m\u001b[1;33m(\u001b[0m\u001b[1;33m)\u001b[0m\u001b[1;33m\u001b[0m\u001b[1;33m\u001b[0m\u001b[0m\n\u001b[0m\u001b[0;32m    117\u001b[0m         \u001b[0my_score_c\u001b[0m \u001b[1;33m=\u001b[0m \u001b[0my_score\u001b[0m\u001b[1;33m.\u001b[0m\u001b[0mtake\u001b[0m\u001b[1;33m(\u001b[0m\u001b[1;33m[\u001b[0m\u001b[0mc\u001b[0m\u001b[1;33m]\u001b[0m\u001b[1;33m,\u001b[0m \u001b[0maxis\u001b[0m\u001b[1;33m=\u001b[0m\u001b[0mnot_average_axis\u001b[0m\u001b[1;33m)\u001b[0m\u001b[1;33m.\u001b[0m\u001b[0mravel\u001b[0m\u001b[1;33m(\u001b[0m\u001b[1;33m)\u001b[0m\u001b[1;33m\u001b[0m\u001b[1;33m\u001b[0m\u001b[0m\n\u001b[0;32m    118\u001b[0m         \u001b[0mscore\u001b[0m\u001b[1;33m[\u001b[0m\u001b[0mc\u001b[0m\u001b[1;33m]\u001b[0m \u001b[1;33m=\u001b[0m \u001b[0mbinary_metric\u001b[0m\u001b[1;33m(\u001b[0m\u001b[0my_true_c\u001b[0m\u001b[1;33m,\u001b[0m \u001b[0my_score_c\u001b[0m\u001b[1;33m,\u001b[0m \u001b[0msample_weight\u001b[0m\u001b[1;33m=\u001b[0m\u001b[0mscore_weight\u001b[0m\u001b[1;33m)\u001b[0m\u001b[1;33m\u001b[0m\u001b[1;33m\u001b[0m\u001b[0m\n",
      "\u001b[1;31mKeyboardInterrupt\u001b[0m: "
     ]
    }
   ],
   "source": [
    "decoded  = model(x)\n",
    "# import numpy as np \n",
    "from sklearn.metrics import roc_auc_score\n",
    "roc_auc_score(np.array(x),np.where(decoded.detach().numpy() > 0.5, 1., 0.))"
   ]
  },
  {
   "cell_type": "code",
   "execution_count": 47,
   "metadata": {},
   "outputs": [
    {
     "data": {
      "text/plain": [
       "array([[1., 0., 0., ..., 0., 0., 0.],\n",
       "       [0., 0., 0., ..., 0., 0., 0.],\n",
       "       [0., 0., 0., ..., 0., 0., 0.],\n",
       "       ...,\n",
       "       [0., 0., 0., ..., 0., 0., 0.],\n",
       "       [0., 0., 0., ..., 0., 0., 0.],\n",
       "       [0., 0., 0., ..., 0., 0., 0.]])"
      ]
     },
     "execution_count": 47,
     "metadata": {},
     "output_type": "execute_result"
    }
   ],
   "source": [
    "np.where(decoded.detach().numpy() > 0.5, 1., 0.)"
   ]
  },
  {
   "cell_type": "code",
   "execution_count": 60,
   "metadata": {},
   "outputs": [
    {
     "data": {
      "text/plain": [
       "(torch.Size([6034, 256]), torch.Size([256]), torch.Size([256, 256]))"
      ]
     },
     "execution_count": 60,
     "metadata": {},
     "output_type": "execute_result"
    }
   ],
   "source": [
    "encoded = model.encoder(x)\n",
    "u,s,v = torch.svd(encoded)\n",
    "u.shape,s.shape,v.shape"
   ]
  },
  {
   "cell_type": "code",
   "execution_count": 89,
   "metadata": {},
   "outputs": [],
   "source": [
    "torch.save(v,'item_v.pt')"
   ]
  }
 ],
 "metadata": {
  "kernelspec": {
   "display_name": "base",
   "language": "python",
   "name": "python3"
  },
  "language_info": {
   "codemirror_mode": {
    "name": "ipython",
    "version": 3
   },
   "file_extension": ".py",
   "mimetype": "text/x-python",
   "name": "python",
   "nbconvert_exporter": "python",
   "pygments_lexer": "ipython3",
   "version": "3.9.7"
  },
  "orig_nbformat": 4
 },
 "nbformat": 4,
 "nbformat_minor": 2
}
